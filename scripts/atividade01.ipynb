{
 "cells": [
  {
   "cell_type": "markdown",
   "id": "1420bd26-603d-4b5e-99c4-45180556e2fc",
   "metadata": {},
   "source": [
    "## Atividade 01 - 12/10/2023"
   ]
  },
  {
   "cell_type": "markdown",
   "id": "2dad0d38-c73e-4e3b-add3-d95b1130255e",
   "metadata": {},
   "source": [
    "### **Importando as bibliotecas**"
   ]
  },
  {
   "cell_type": "code",
   "execution_count": null,
   "id": "eb4f02e9-c216-48ea-b7f8-33bb9bc1a8a0",
   "metadata": {},
   "outputs": [],
   "source": [
    "import numpy as np\n",
    "import matplotlib.pyplot as plt\n",
    "import pandas as pd"
   ]
  },
  {
   "cell_type": "markdown",
   "id": "974979a7-30a2-4358-b737-50e89735e003",
   "metadata": {},
   "source": [
    "### **Usando o Pandas para ler meu arquivo de dados .csv e criar um dataframe**"
   ]
  },
  {
   "cell_type": "code",
   "execution_count": null,
   "id": "3c0ce699-c214-496b-bf2c-f0bb72a3227a",
   "metadata": {},
   "outputs": [],
   "source": [
    "#Declaração da variável 'df', que vai receber meu arquivo .csv com os dados brutos\n",
    "#Usando header=[0] pra dizer que a primeira linha do código é índice, e index_col=[0] pra dizer que a primeira coluna é índice\n",
    "df = pd.read_csv('C:/Users/bruna/Documents/ENS410064/ENS410064/dados/brutos/abundancia_especies_benthos.csv', header=[0], index_col=[0])     \n",
    "\n",
    "#Calculando a média de individuos para cada espécie, para todo o dataframe, considerando axis = 1, que significa\n",
    "#que eu quero a média entre os valores das colunas para cada linha\n",
    "media_especie = df.mean(axis=1).round(2) #Arredonda o resultado para duas casas decimais\n",
    "print(media_especie)\n"
   ]
  },
  {
   "cell_type": "code",
   "execution_count": null,
   "id": "8747301c-ed8e-470b-98d7-0d741513859a",
   "metadata": {},
   "outputs": [],
   "source": [
    "#Criando uma nova coluna chamada 'media', para receber os valores da média de indivíduos de cada espécie\n",
    "df=df.assign(media = media_especie)\n",
    "df"
   ]
  },
  {
   "cell_type": "code",
   "execution_count": null,
   "id": "6a318c53-4519-4a50-9d98-062fbd3a8793",
   "metadata": {},
   "outputs": [],
   "source": [
    "#Salvando minha base agora com as médias\n",
    "df.to_csv(r'C:\\Users\\bruna\\Documents\\ENS410064\\ENS410064\\dados\\brutos\\abundancia_benthos_com_media.csv')"
   ]
  },
  {
   "cell_type": "markdown",
   "id": "1870b398-73d5-44d1-95d1-afa59b2c17d7",
   "metadata": {},
   "source": [
    "### **Algumas análises** ###"
   ]
  },
  {
   "cell_type": "code",
   "execution_count": null,
   "id": "2da19e8e-85b1-440a-a81e-87f6caf64ae8",
   "metadata": {},
   "outputs": [],
   "source": [
    "#Quero descobrir quais espécies apresentaram média maior do que 100, e quais espécies apresentaram média inferior a 10\n",
    "\n",
    "media_100 = df[(df['media']>=100)]\n",
    "print(media_100.index.tolist(), '\\n') #Transforma o índice em lista e depois printa os nomes das espécies que tiveram média >100\n",
    "print(f'A quantidade de espécies com média de indivíduos superior a 100 é de: {len(media_100)}')"
   ]
  },
  {
   "cell_type": "code",
   "execution_count": null,
   "id": "f4728394-7db3-4ab4-b067-b116c1a02191",
   "metadata": {},
   "outputs": [],
   "source": [
    "media_10 = df[(df['media']<=10)]\n",
    "print(media_10.index.tolist(), '\\n')\n",
    "print(f'A quantidade de espécies com média de indivíduos inferior a 10 é de: {len(media_10)}')"
   ]
  },
  {
   "cell_type": "code",
   "execution_count": null,
   "id": "67c5e505-3fd7-4c61-8e2b-0136659e4139",
   "metadata": {},
   "outputs": [],
   "source": [
    "#Quantos e quais indivíduos apresentaram média inferior a 50\n",
    "\n",
    "media_50 = df[(df['media']<=50)]\n",
    "print(media_50.index.tolist(), '\\n')\n",
    "\n",
    "print(f'A quantidade de espécies com média de indivíduos inferior a 50 é de: {len(media_50)}')"
   ]
  },
  {
   "cell_type": "code",
   "execution_count": null,
   "id": "71cd847e-cc52-4f9b-9a9f-00c0642d52c5",
   "metadata": {},
   "outputs": [],
   "source": [
    "#Quero ver qual foi a espécie com a maior e a menor média\n",
    "\n",
    "maior_media = df[(df['media'] == df['media'].max())]\n",
    "menor_media = df[(df['media'] == df['media'].min())]\n",
    "\n",
    "print(f'A espécie com a maior média de indivíduos foi: {maior_media.index.tolist()}''\\n')\n",
    "print(f'A espécie com a menor média de indivíduos foi: {menor_media.index.tolist()}')"
   ]
  },
  {
   "cell_type": "markdown",
   "id": "a59f4c0d-2555-4d80-a8f5-a7edb66c96e7",
   "metadata": {},
   "source": [
    "### **Deletando dados das espécies cuja média de indivíduos entre 1972 e 2012 foi inferior a 50**"
   ]
  },
  {
   "cell_type": "code",
   "execution_count": null,
   "id": "19b835a9-bd3d-4ff2-8fbc-85acfe15f554",
   "metadata": {
    "scrolled": true
   },
   "outputs": [],
   "source": [
    "#Como muitas espécies quase não tiveram indivíduos identificados em quantidades significativas, optei por\n",
    "#excluir uma parte deles para trabalhar somente com aqueles que apareceram mais\n",
    "\n",
    "df = df.drop(df[(df['media'] <=50)].index) #O comando 'drop' serve para excluir linhas ou colunas. Nesse caso, exclui as linhas das espécies cuja média de indivíduos ('media', a última coluna que foi criada) foi inferior ou igual a 50\n",
    "df.shape\n",
    "df"
   ]
  },
  {
   "cell_type": "markdown",
   "id": "95eb3633-4a09-4587-93d5-c40ca38eb319",
   "metadata": {},
   "source": [
    "#### **Gerando gráficos**"
   ]
  },
  {
   "cell_type": "markdown",
   "id": "ad3319b5-d9a4-41d6-8782-ca03cd30734c",
   "metadata": {},
   "source": [
    "#### **Gráficos da evolução de cada espécie ao longo do tempo**"
   ]
  },
  {
   "cell_type": "code",
   "execution_count": null,
   "id": "41b70333-6885-4618-b42a-4b3fefe4a9e2",
   "metadata": {
    "scrolled": true
   },
   "outputs": [],
   "source": [
    "#Tentando plotar todos os dados\n",
    "#df.plot\n",
    "#O resultado vai ficar melhor se a matriz for transposta, pois quero as espécies como head da tabela e cada data em uma linha (index)\n",
    "df_t = df.transpose()  \n",
    "\n",
    "#Usando um laço de repetição para não precisar gerar um gráfico de cada vez\n",
    "for coluna in df_t.columns: #iterando sobre cada coluna (cada coluna é uma espécie)\n",
    "    especie = coluna #Aqui, estou declarando uma variável chamada 'espécie' e atribuindo a ela o nome que está na coluna atualmente iterada do meu dataframe\n",
    "    plt.figure(figsize=(10,8))\n",
    "    plt.plot(df_t.index, df_t[coluna],color='green') #plota no eixo x o índice (que são as datas), e no eixo y a quantidade de indivíduos para aquela especie definida na coluna\n",
    "    plt.xlabel('Season/year')\n",
    "    plt.ylabel('Number of organisms')\n",
    "    plt.title(f'Evolution of {especie} over time') #esse 'f' na frente permite que seja inserida a variável dentro do texto\n",
    "    plt.xticks(df_t.index[::5], rotation=45)\n",
    "    plt.tight_layout()  # Evita que as legendas se sobreponham\n",
    "    nome_arquivo=f'C:/Users/bruna/Documents/ENS410064/ENS410064/dados/graficos/{especie}_evolution.png'\n",
    "    plt.savefig(nome_arquivo) #Essa função permite salvar a figura \n",
    "    plt.show()\n",
    "    \n",
    "\n",
    "        "
   ]
  },
  {
   "cell_type": "markdown",
   "id": "68b839e9-dea2-473e-9e6b-115deb004a21",
   "metadata": {},
   "source": [
    "#### **Gráfico da evolução de todas as espécies ao longo do tempo**"
   ]
  },
  {
   "cell_type": "code",
   "execution_count": null,
   "id": "3425b6d4-beed-449f-8c3c-0fc13ccac31e",
   "metadata": {},
   "outputs": [],
   "source": [
    "plt.figure(figsize=(25,15)) #definindo o tamanho da minha figura, que nesse caso precisa ser grande pois são muitos dados sobrepostos\n",
    "\n",
    "for coluna in df_t.columns: #iterando sobre todas as colunas do meu df transposto\n",
    "    plt.plot(df_t.index, df_t[coluna], label=coluna) #definindo os eixos do gráfico: x = meu índice, que é o tempo; y = minhas colunas, que são as espécies, label é o rótulo de cada linha\n",
    "\n",
    "plt.xlabel('Season/year', fontsize=\"20\")\n",
    "plt.ylabel('Number of organisms', fontsize=\"20\")\n",
    "plt.title('Evolution of all benthic species over time', fontsize=\"30\")\n",
    "plt.legend(fontsize=\"15\", loc='best') #Essa função loc='best' posiciona a legenda (no caso, com as espécies) no melhor local possível do gráfico\n",
    "plt.xticks(df_t.index[::5], fontsize=\"20\", rotation=45)\n",
    "plt.yticks(fontsize=\"20\")\n",
    "plt.tight_layout()\n",
    "nome_arquivo='C:/Users/bruna/Documents/ENS410064/ENS410064/dados/graficos/evolution_all_species.png'\n",
    "plt.savefig(nome_arquivo) \n",
    "plt.show()\n"
   ]
  },
  {
   "cell_type": "markdown",
   "id": "d25bb036-6106-45e8-a062-29a6818fd3d6",
   "metadata": {},
   "source": [
    "#### **Gráficos para grupos de espécies**"
   ]
  },
  {
   "cell_type": "code",
   "execution_count": null,
   "id": "003c3c84-a65b-486f-842c-a1397c86ad7b",
   "metadata": {},
   "outputs": [],
   "source": [
    "#Tenho 24 espécies e quero seis gráficos:\n",
    "max_esp_por_subplot = 4 #Aqui estou definindo que o máximo de espécies que pode sair em cada gráfico é 4. \n",
    "\n",
    "# Criando subplots automaticamente com base no número máximo de espécies por subplot\n",
    "num_subplots = len(df_t.columns) // max_esp_por_subplot \n",
    "#Na linha acima, a função 'len' me dá o número de colunas que temos, que no caso, é o número de espécies,\n",
    "#e divide o número de espécies pelo máximo de espécies em cada gráfico. Assim, temos 24/4 = 6 gráficos (subplots)\n",
    "\n",
    "#Criando um laço de repetição, que define os grupos de espécies\n",
    "#O índice i e variável grupo_especies estão recebendo o número do grupo (grupo 1, 2, 3, 4...)\n",
    "#Para cada grupo, está sendo gerado um subplot de tamanho 10x5\n",
    "for i, grupo_especies in enumerate(range(0, len(df_t.columns), max_esp_por_subplot)): #começa em zero, vai até o nº colunas, pulando de 4 em 4\n",
    "    plt.figure(figsize=(10, 5))  \n",
    "\n",
    "#Esse laço de repetição itera sobre as colunas do df_t, começando em grupo_especies, que tem o índice do grupo (1, 2, 3... 6),\n",
    "#e indo até o final do grupo, que nada mais é do que somar o máximo número de espécies por grupo\n",
    "#pra cada grupo, está sendo plotado um gráfico de tempo x espécie (coluna), com a legenda sendo as espécies\n",
    "    for coluna in df_t.columns[grupo_especies:grupo_especies+max_esp_por_subplot]:\n",
    "        plt.plot(df_t.index, df_t[coluna], label=coluna)\n",
    "        \n",
    "#Definições de formatação de gráfico e local para salvar as figuras    \n",
    "    plt.xlabel('Season/year')\n",
    "    plt.ylabel('Number of organisms')\n",
    "    plt.title(f'Evolução das Espécies (Grupo {i+1})', fontsize=\"15\")\n",
    "    plt.legend(loc='best')\n",
    "    plt.tight_layout()\n",
    "    plt.xticks(df_t.index[::5], rotation=45, fontsize=\"10\")\n",
    "    plt.yticks(fontsize=\"10\")\n",
    "    nome_arquivo=f'C:/Users/bruna/Documents/ENS410064/ENS410064/dados/graficos/evolution_species_group_{i+1}.png'\n",
    "    plt.savefig(nome_arquivo) \n",
    "\n",
    "plt.show()"
   ]
  },
  {
   "cell_type": "code",
   "execution_count": null,
   "id": "d3abc9ee-60c4-4b13-91b0-c05af5af1265",
   "metadata": {},
   "outputs": [],
   "source": []
  }
 ],
 "metadata": {
  "kernelspec": {
   "display_name": "Python 3 (ipykernel)",
   "language": "python",
   "name": "python3"
  },
  "language_info": {
   "codemirror_mode": {
    "name": "ipython",
    "version": 3
   },
   "file_extension": ".py",
   "mimetype": "text/x-python",
   "name": "python",
   "nbconvert_exporter": "python",
   "pygments_lexer": "ipython3",
   "version": "3.11.5"
  }
 },
 "nbformat": 4,
 "nbformat_minor": 5
}
