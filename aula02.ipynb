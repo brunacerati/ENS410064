{
 "cells": [
  {
   "cell_type": "markdown",
   "id": "2229713f-4b0b-4f02-8988-d836b833741a",
   "metadata": {},
   "source": [
    "# Aula 02 - Python "
   ]
  },
  {
   "cell_type": "markdown",
   "id": "fb4adce2-a882-45bf-aa8f-cf585baf84e2",
   "metadata": {},
   "source": [
    "## Dados numéricos \n"
   ]
  },
  {
   "cell_type": "code",
   "execution_count": 8,
   "id": "a71cc982-43cb-4480-9653-8000e39bcae8",
   "metadata": {},
   "outputs": [
    {
     "name": "stdout",
     "output_type": "stream",
     "text": [
      "Valor de a é igual a =1\n"
     ]
    },
    {
     "data": {
      "text/plain": [
       "int"
      ]
     },
     "execution_count": 8,
     "metadata": {},
     "output_type": "execute_result"
    }
   ],
   "source": [
    "# variável inteira\n",
    "a = 1\n",
    "print('Valor de a é igual a =' + str(a)) #aqui foi transformada a variável 'a' em 'str' para poder somar texto com texto\n",
    "#número inteiro com texto nõo se soma\n",
    "type(a) #aqui estou pedindo para ver qual é o tipo do dado 'a'"
   ]
  },
  {
   "cell_type": "code",
   "execution_count": 12,
   "id": "683cbd40-49ea-4350-b421-43abc09ec805",
   "metadata": {},
   "outputs": [
    {
     "name": "stdout",
     "output_type": "stream",
     "text": [
      "Valor de b é igual a = 1.0\n"
     ]
    },
    {
     "data": {
      "text/plain": [
       "float"
      ]
     },
     "execution_count": 12,
     "metadata": {},
     "output_type": "execute_result"
    }
   ],
   "source": [
    "# variável dupla precisão\n",
    "b = 1.0\n",
    "print('Valor de b é igual a = ' + str(b))\n",
    "type(b)"
   ]
  },
  {
   "cell_type": "code",
   "execution_count": 11,
   "id": "f6415d56-57d7-468f-9438-9ecf4544afc2",
   "metadata": {},
   "outputs": [
    {
     "name": "stdout",
     "output_type": "stream",
     "text": [
      "1\n"
     ]
    },
    {
     "data": {
      "text/plain": [
       "int"
      ]
     },
     "execution_count": 11,
     "metadata": {},
     "output_type": "execute_result"
    }
   ],
   "source": [
    "#converter float para int\n",
    "c = int(b)\n",
    "print(c)\n",
    "type(c)"
   ]
  },
  {
   "cell_type": "code",
   "execution_count": 14,
   "id": "6e4b9341-4cae-407a-95f7-06fd16708fc3",
   "metadata": {},
   "outputs": [
    {
     "name": "stdout",
     "output_type": "stream",
     "text": [
      "nan\n"
     ]
    },
    {
     "data": {
      "text/plain": [
       "float"
      ]
     },
     "execution_count": 14,
     "metadata": {},
     "output_type": "execute_result"
    }
   ],
   "source": [
    "#Declarando nan (valor não numérico) - reconhece que não é um número\n",
    "import numpy as np\n",
    "d = np.nan\n",
    "print (d)\n",
    "type(d)"
   ]
  },
  {
   "cell_type": "markdown",
   "id": "4204c723-fb9d-4f80-9048-2b12bc7c42e9",
   "metadata": {},
   "source": [
    "# Operação com NaN\n",
    "e = d*1\n",
    "print(e)\n",
    "e = d + 1\n",
    "print(e)\n",
    "e = np.nansum([d,1])\n",
    "print(e)"
   ]
  },
  {
   "cell_type": "markdown",
   "id": "e82cbf7f-a740-46f3-8b14-a083c5397cc4",
   "metadata": {},
   "source": [
    "## Dados de texto (string)"
   ]
  },
  {
   "cell_type": "code",
   "execution_count": 23,
   "id": "4bdf1a82-af5d-4d77-87cd-4b337ea155f4",
   "metadata": {},
   "outputs": [
    {
     "name": "stdout",
     "output_type": "stream",
     "text": [
      "Fábio\n",
      "Gabriel\n",
      "Fábio Gabriel\n"
     ]
    }
   ],
   "source": [
    "# Declaração de variável texto\n",
    "f = 'Fábio'\n",
    "g = \"Gabriel\" #funciona com uma ou duas aspas\n",
    "print(f)\n",
    "print(g)\n",
    "print (f + ' ' + g)"
   ]
  },
  {
   "cell_type": "markdown",
   "id": "0a9eeeab-0a38-4286-a807-a6135678bd42",
   "metadata": {},
   "source": [
    "## Dados do tipo bool - lógico"
   ]
  },
  {
   "cell_type": "code",
   "execution_count": 24,
   "id": "2c45f61a-b93f-4be1-89cb-df9ddc21967a",
   "metadata": {},
   "outputs": [
    {
     "data": {
      "text/plain": [
       "True"
      ]
     },
     "execution_count": 24,
     "metadata": {},
     "output_type": "execute_result"
    }
   ],
   "source": [
    "a == 1"
   ]
  },
  {
   "cell_type": "code",
   "execution_count": 27,
   "id": "b973c995-afb4-40e5-9d90-0d10b215ca27",
   "metadata": {},
   "outputs": [
    {
     "name": "stdout",
     "output_type": "stream",
     "text": [
      "True\n"
     ]
    },
    {
     "data": {
      "text/plain": [
       "bool"
      ]
     },
     "execution_count": 27,
     "metadata": {},
     "output_type": "execute_result"
    }
   ],
   "source": [
    "h = (a==1)\n",
    "print(h)\n",
    "type(h)"
   ]
  },
  {
   "cell_type": "code",
   "execution_count": 28,
   "id": "8a63041d-8ea3-4820-806b-93723384969f",
   "metadata": {},
   "outputs": [
    {
     "name": "stdout",
     "output_type": "stream",
     "text": [
      "False\n"
     ]
    },
    {
     "data": {
      "text/plain": [
       "bool"
      ]
     },
     "execution_count": 28,
     "metadata": {},
     "output_type": "execute_result"
    }
   ],
   "source": [
    "h = (a==2)\n",
    "print(h)\n",
    "type(h)"
   ]
  },
  {
   "cell_type": "code",
   "execution_count": 31,
   "id": "d7858100-a763-47a4-9333-d54d917bbb95",
   "metadata": {},
   "outputs": [
    {
     "data": {
      "text/plain": [
       "bool"
      ]
     },
     "execution_count": 31,
     "metadata": {},
     "output_type": "execute_result"
    }
   ],
   "source": [
    "i = True\n",
    "type(i)\n"
   ]
  },
  {
   "cell_type": "code",
   "execution_count": 32,
   "id": "4ea2269b-d61d-4f47-9e81-1299f9c06e89",
   "metadata": {},
   "outputs": [
    {
     "data": {
      "text/plain": [
       "str"
      ]
     },
     "execution_count": 32,
     "metadata": {},
     "output_type": "execute_result"
    }
   ],
   "source": [
    "ii = 'True'\n",
    "type(ii)"
   ]
  },
  {
   "cell_type": "markdown",
   "id": "58fcf628-6b56-4ea2-b2ae-d12d1ee84770",
   "metadata": {},
   "source": [
    "## Operação de comparação"
   ]
  },
  {
   "cell_type": "code",
   "execution_count": 36,
   "id": "8b6d5838-907f-474c-9507-80598f2b6be0",
   "metadata": {},
   "outputs": [
    {
     "data": {
      "text/plain": [
       "True"
      ]
     },
     "execution_count": 36,
     "metadata": {},
     "output_type": "execute_result"
    }
   ],
   "source": [
    "#Operação == (comparação)\n",
    "a==b"
   ]
  },
  {
   "cell_type": "code",
   "execution_count": 37,
   "id": "1d7d08c3-c0f0-401f-98a0-4024d1fb7438",
   "metadata": {},
   "outputs": [
    {
     "data": {
      "text/plain": [
       "False"
      ]
     },
     "execution_count": 37,
     "metadata": {},
     "output_type": "execute_result"
    }
   ],
   "source": [
    "#Operação com > e <\n",
    "a>b"
   ]
  },
  {
   "cell_type": "code",
   "execution_count": 38,
   "id": "a6606bf6-74f4-4102-92a8-01ecb331b117",
   "metadata": {},
   "outputs": [],
   "source": [
    "#Operação != (diferente de) "
   ]
  },
  {
   "cell_type": "code",
   "execution_count": 39,
   "id": "f4d47301-67fd-4f99-b34a-299439c8b690",
   "metadata": {},
   "outputs": [
    {
     "data": {
      "text/plain": [
       "False"
      ]
     },
     "execution_count": 39,
     "metadata": {},
     "output_type": "execute_result"
    }
   ],
   "source": [
    "a!=b"
   ]
  },
  {
   "cell_type": "code",
   "execution_count": 40,
   "id": "81b4d03a-2435-4eff-bb58-916fdbcdeef9",
   "metadata": {},
   "outputs": [
    {
     "data": {
      "text/plain": [
       "True"
      ]
     },
     "execution_count": 40,
     "metadata": {},
     "output_type": "execute_result"
    }
   ],
   "source": [
    "#Operação >= ou <= \n",
    "a>=b"
   ]
  },
  {
   "cell_type": "markdown",
   "id": "96f187da-5342-4895-9810-c81542f7336a",
   "metadata": {},
   "source": [
    "## Operações matemáticas"
   ]
  },
  {
   "cell_type": "code",
   "execution_count": 41,
   "id": "0d428d07-03ef-423f-b59e-946bd286e5ec",
   "metadata": {},
   "outputs": [
    {
     "data": {
      "text/plain": [
       "2.0"
      ]
     },
     "execution_count": 41,
     "metadata": {},
     "output_type": "execute_result"
    }
   ],
   "source": [
    "#Soma\n",
    "a+b"
   ]
  },
  {
   "cell_type": "code",
   "execution_count": 42,
   "id": "af0757c0-e2b2-4b5a-88b8-dcca988e8aeb",
   "metadata": {},
   "outputs": [
    {
     "name": "stdout",
     "output_type": "stream",
     "text": [
      "2.0\n"
     ]
    }
   ],
   "source": [
    "#Soma e atribuir valor\n",
    "ab= a+b\n",
    "print(ab)"
   ]
  },
  {
   "cell_type": "code",
   "execution_count": 44,
   "id": "dce358f9-fcba-4b36-8db9-f8e78c0ff03b",
   "metadata": {},
   "outputs": [
    {
     "name": "stdout",
     "output_type": "stream",
     "text": [
      "Não use l como variável\n",
      "1.0\n"
     ]
    }
   ],
   "source": [
    "#Multiplicação\n",
    "l = a*b #não use L como variável\n",
    "print('Não use l como variável')\n",
    "j = a*b\n",
    "print(j)"
   ]
  },
  {
   "cell_type": "code",
   "execution_count": 45,
   "id": "d1bcd737-3bed-4985-b5e6-2bfdbff6262a",
   "metadata": {},
   "outputs": [
    {
     "data": {
      "text/plain": [
       "1.0"
      ]
     },
     "execution_count": 45,
     "metadata": {},
     "output_type": "execute_result"
    }
   ],
   "source": [
    "#Divisão\n",
    "a/b"
   ]
  },
  {
   "cell_type": "code",
   "execution_count": 49,
   "id": "62586f45-ed9b-41cb-afef-f2ad6b3435e0",
   "metadata": {},
   "outputs": [
    {
     "data": {
      "text/plain": [
       "25"
      ]
     },
     "execution_count": 49,
     "metadata": {},
     "output_type": "execute_result"
    }
   ],
   "source": [
    "#Potência\n",
    "5**2"
   ]
  },
  {
   "cell_type": "code",
   "execution_count": 51,
   "id": "028fbe07-7772-4ea9-890d-4d036cc378e1",
   "metadata": {},
   "outputs": [
    {
     "data": {
      "text/plain": [
       "22026.465794806718"
      ]
     },
     "execution_count": 51,
     "metadata": {},
     "output_type": "execute_result"
    }
   ],
   "source": [
    "#Operações matemáticas com a biblioteca math\n",
    "import math \n",
    "\n",
    "math.exp(10) #exponencial de 10"
   ]
  },
  {
   "cell_type": "code",
   "execution_count": 52,
   "id": "ec250db4-0ecb-4ee1-ad40-fb635549ae02",
   "metadata": {},
   "outputs": [
    {
     "data": {
      "text/plain": [
       "2.718281828459045"
      ]
     },
     "execution_count": 52,
     "metadata": {},
     "output_type": "execute_result"
    }
   ],
   "source": [
    "math.exp(a)"
   ]
  },
  {
   "cell_type": "code",
   "execution_count": 53,
   "id": "7e8d83a6-b4d0-40a6-89a1-477acc795452",
   "metadata": {},
   "outputs": [
    {
     "data": {
      "text/plain": [
       "1.0"
      ]
     },
     "execution_count": 53,
     "metadata": {},
     "output_type": "execute_result"
    }
   ],
   "source": [
    "math.exp(0)"
   ]
  },
  {
   "cell_type": "code",
   "execution_count": 54,
   "id": "9b22caf0-ae61-4cfd-990d-ed35c3fc16ca",
   "metadata": {},
   "outputs": [
    {
     "data": {
      "text/plain": [
       "2.718281828459045"
      ]
     },
     "execution_count": 54,
     "metadata": {},
     "output_type": "execute_result"
    }
   ],
   "source": [
    "import math as mt\n",
    "mt.exp(a)"
   ]
  },
  {
   "cell_type": "code",
   "execution_count": 55,
   "id": "65b22f85-09da-44a6-a71c-f9cb7aef4d66",
   "metadata": {},
   "outputs": [
    {
     "data": {
      "text/plain": [
       "2.718281828459045"
      ]
     },
     "execution_count": 55,
     "metadata": {},
     "output_type": "execute_result"
    }
   ],
   "source": [
    "mt.exp(c)"
   ]
  },
  {
   "cell_type": "code",
   "execution_count": 56,
   "id": "b95af79c-c3d7-4c88-85a6-fce15adb14db",
   "metadata": {},
   "outputs": [
    {
     "data": {
      "text/plain": [
       "0.0"
      ]
     },
     "execution_count": 56,
     "metadata": {},
     "output_type": "execute_result"
    }
   ],
   "source": [
    "mt.log(c)"
   ]
  },
  {
   "cell_type": "code",
   "execution_count": 57,
   "id": "657500c5-a7a2-407c-b30c-60e11f8aef29",
   "metadata": {},
   "outputs": [
    {
     "data": {
      "text/plain": [
       "0.0"
      ]
     },
     "execution_count": 57,
     "metadata": {},
     "output_type": "execute_result"
    }
   ],
   "source": [
    "mt.log10(c)"
   ]
  },
  {
   "cell_type": "code",
   "execution_count": 58,
   "id": "4c75b1a8-67ab-4571-a24e-f16b7d7bb6e3",
   "metadata": {},
   "outputs": [
    {
     "data": {
      "text/plain": [
       "2.0"
      ]
     },
     "execution_count": 58,
     "metadata": {},
     "output_type": "execute_result"
    }
   ],
   "source": [
    "mt.log10(100)"
   ]
  },
  {
   "cell_type": "markdown",
   "id": "348cb38d-3ad0-4c67-943c-ec375a242aa8",
   "metadata": {},
   "source": [
    "## Listas"
   ]
  },
  {
   "cell_type": "code",
   "execution_count": 63,
   "id": "b984fc22-41a6-47d5-b58b-c4d1d5b9f87a",
   "metadata": {},
   "outputs": [
    {
     "name": "stdout",
     "output_type": "stream",
     "text": [
      "1\n"
     ]
    }
   ],
   "source": [
    "myFirstList = [1, 2, 3]\n",
    "print(myFirstList[0]) #coloca na tela o número que está na posição 0 da lista.\n",
    "#para acessar a lista, sempre coloca entre colchetes a posição "
   ]
  },
  {
   "cell_type": "code",
   "execution_count": 64,
   "id": "50f2f7d7-76e1-42e3-882c-5f3cc0b9f882",
   "metadata": {},
   "outputs": [
    {
     "data": {
      "text/plain": [
       "False"
      ]
     },
     "execution_count": 64,
     "metadata": {},
     "output_type": "execute_result"
    }
   ],
   "source": [
    "myFirstList==a"
   ]
  },
  {
   "cell_type": "code",
   "execution_count": 65,
   "id": "27093530-9011-4b21-b5c1-a0a3097af5b9",
   "metadata": {},
   "outputs": [
    {
     "data": {
      "text/plain": [
       "True"
      ]
     },
     "execution_count": 65,
     "metadata": {},
     "output_type": "execute_result"
    }
   ],
   "source": [
    "myFirstList[0]==a"
   ]
  },
  {
   "cell_type": "code",
   "execution_count": 66,
   "id": "e7a46f5a-ce3a-4beb-9107-a2c70b442011",
   "metadata": {},
   "outputs": [
    {
     "name": "stdout",
     "output_type": "stream",
     "text": [
      "[1, 1, 'c']\n"
     ]
    }
   ],
   "source": [
    "mySecondList = [1,a,'c'] #lista com número, variável e texto\n",
    "print(mySecondList)"
   ]
  },
  {
   "cell_type": "code",
   "execution_count": 67,
   "id": "5eb9b68d-1064-4e2e-9cd5-d27cb3a23233",
   "metadata": {},
   "outputs": [
    {
     "data": {
      "text/plain": [
       "list"
      ]
     },
     "execution_count": 67,
     "metadata": {},
     "output_type": "execute_result"
    }
   ],
   "source": [
    "type(mySecondList)"
   ]
  },
  {
   "cell_type": "code",
   "execution_count": 68,
   "id": "4374d563-f364-4b7f-899e-34f1fe2d7cc1",
   "metadata": {},
   "outputs": [
    {
     "data": {
      "text/plain": [
       "int"
      ]
     },
     "execution_count": 68,
     "metadata": {},
     "output_type": "execute_result"
    }
   ],
   "source": [
    "type(mySecondList[0])"
   ]
  },
  {
   "cell_type": "markdown",
   "id": "a714949c-8e07-49b0-97e7-8c46c6b4df3b",
   "metadata": {},
   "source": [
    "## Caminhos = path"
   ]
  },
  {
   "cell_type": "code",
   "execution_count": 70,
   "id": "a124c6c3-fcb4-4353-aa7b-239c0f9df02f",
   "metadata": {},
   "outputs": [
    {
     "name": "stdout",
     "output_type": "stream",
     "text": [
      "C:\\Users\\bruna\\Documents\\ENS410064\\ENS410064\n"
     ]
    }
   ],
   "source": [
    "path = r\"C:\\Users\\bruna\\Documents\\ENS410064\\ENS410064\" #coloca r antes do caminho para ele aceitar a barra virada\n",
    "print(path)"
   ]
  },
  {
   "cell_type": "code",
   "execution_count": 74,
   "id": "fa461eaf-9eff-4fdc-b808-af3e86063df7",
   "metadata": {},
   "outputs": [
    {
     "name": "stdout",
     "output_type": "stream",
     "text": [
      "C:/Users/bruna/Documents/ENS410064/ENS410064\n"
     ]
    }
   ],
   "source": [
    "path = \"C:/Users/bruna/Documents/ENS410064/ENS410064\" #troca a barra do caminho para o outro lado\n",
    "print(path)"
   ]
  },
  {
   "cell_type": "code",
   "execution_count": 76,
   "id": "c337dbee-989f-4b72-920a-8505c5f46618",
   "metadata": {},
   "outputs": [
    {
     "data": {
      "text/plain": [
       "['.git', '.gitignore', 'dados', 'pyenv', 'README.md', 'scripts']"
      ]
     },
     "execution_count": 76,
     "metadata": {},
     "output_type": "execute_result"
    }
   ],
   "source": [
    "import os\n",
    "os.listdir(path) #listar arquivos na pasta"
   ]
  },
  {
   "cell_type": "code",
   "execution_count": 77,
   "id": "37f86ca1-6a2b-47d7-bb76-b4fac6ae3140",
   "metadata": {},
   "outputs": [
    {
     "data": {
      "text/plain": [
       "'.git'"
      ]
     },
     "execution_count": 77,
     "metadata": {},
     "output_type": "execute_result"
    }
   ],
   "source": [
    "os.listdir(path)[0] #selecionar o arquivo que está na primeira posição da lista"
   ]
  },
  {
   "cell_type": "code",
   "execution_count": 80,
   "id": "77b93696-900d-47a1-aaf7-3d828c6d68ae",
   "metadata": {},
   "outputs": [
    {
     "data": {
      "text/plain": [
       "'C:/Users/bruna/Documents/ENS410064/ENS410064/.git'"
      ]
     },
     "execution_count": 80,
     "metadata": {},
     "output_type": "execute_result"
    }
   ],
   "source": [
    "path+\"/\"+os.listdir(path)[0] #concatenando caminhos"
   ]
  },
  {
   "cell_type": "code",
   "execution_count": 83,
   "id": "43c64218-effb-4821-88b7-57152ede229c",
   "metadata": {},
   "outputs": [
    {
     "data": {
      "text/plain": [
       "['COMMIT_EDITMSG',\n",
       " 'config',\n",
       " 'description',\n",
       " 'FETCH_HEAD',\n",
       " 'HEAD',\n",
       " 'hooks',\n",
       " 'index',\n",
       " 'info',\n",
       " 'logs',\n",
       " 'objects',\n",
       " 'packed-refs',\n",
       " 'refs']"
      ]
     },
     "execution_count": 83,
     "metadata": {},
     "output_type": "execute_result"
    }
   ],
   "source": [
    "os.listdir(path+\"/\"+os.listdir(path)[0]) #mostra o que tem na pasta que está na posição 0, dentro da pasta 'path'"
   ]
  },
  {
   "cell_type": "code",
   "execution_count": 87,
   "id": "d50d9195-c2bf-4afb-b2f0-dbf11f13e71b",
   "metadata": {},
   "outputs": [
    {
     "data": {
      "text/plain": [
       "'C:\\\\Users\\\\bruna\\\\Documents\\\\ENS410064\\\\ENS410064\\\\pyenv\\\\Scripts'"
      ]
     },
     "execution_count": 87,
     "metadata": {},
     "output_type": "execute_result"
    }
   ],
   "source": [
    "os.getcwd() #mostra o diretório no qual estou trabalhando"
   ]
  },
  {
   "cell_type": "code",
   "execution_count": 89,
   "id": "5dcd1d3e-5983-4845-84dd-4870381aff4f",
   "metadata": {},
   "outputs": [],
   "source": [
    "os.chdir('C:\\\\Users\\\\bruna\\\\Documents\\\\ENS410064\\\\') #mudo para outro diretório, para o caminho listado (agora estou trabalhando nesse)"
   ]
  },
  {
   "cell_type": "code",
   "execution_count": 90,
   "id": "ce2c93be-54a3-404f-a9f4-ca4fb95dd6ad",
   "metadata": {},
   "outputs": [
    {
     "data": {
      "text/plain": [
       "'C:\\\\Users\\\\bruna\\\\Documents\\\\ENS410064'"
      ]
     },
     "execution_count": 90,
     "metadata": {},
     "output_type": "execute_result"
    }
   ],
   "source": [
    "os.getcwd()"
   ]
  },
  {
   "cell_type": "code",
   "execution_count": 94,
   "id": "7ce785e1-30f9-4fd8-9fe2-7690a396edde",
   "metadata": {},
   "outputs": [
    {
     "name": "stdout",
     "output_type": "stream",
     "text": [
      "diretório já existe\n"
     ]
    }
   ],
   "source": [
    "new_path = (os.getcwd()+'/test') #cria uma variável, que cria um diretorio na pasta que estava trabalhando\n",
    "\n",
    "if os.path.isdir(new_path):\n",
    "    print('diretório já existe')\n",
    "else: \n",
    "    print('Criando diretório' + new_path)\n",
    "    os.mkdir(new_path)"
   ]
  },
  {
   "cell_type": "code",
   "execution_count": 97,
   "id": "f278929b-1bf7-4502-9900-f82d61d7588f",
   "metadata": {},
   "outputs": [
    {
     "name": "stdout",
     "output_type": "stream",
     "text": [
      "Criando diretórioC:\\Users\\bruna\\Documents\\ENS410064/test2\n"
     ]
    }
   ],
   "source": [
    "new_path = (os.getcwd()+'/test2') #cria uma variável, que cria um diretorio na pasta que estava trabalhando\n",
    "\n",
    "if os.path.isdir(new_path):\n",
    "    print('diretório já existe')\n",
    "    #criando um arquivo de texto dentro do diretório que já existe\n",
    "    with open(new_path+\"/copy.txt\",\"w\") as file:\n",
    "        file.write(\"Your text goes here\")\n",
    "else: \n",
    "    print('Criando diretório' + new_path)\n",
    "    os.mkdir(new_path)"
   ]
  },
  {
   "cell_type": "markdown",
   "id": "299aa9bf-714d-4b23-aee1-ae507990e095",
   "metadata": {},
   "source": [
    "## Numpy arrays e Pandas dataframes"
   ]
  },
  {
   "cell_type": "code",
   "execution_count": 99,
   "id": "b4d638e9-e6b1-4c07-9159-f9119d0c53f6",
   "metadata": {},
   "outputs": [
    {
     "data": {
      "text/plain": [
       "numpy.ndarray"
      ]
     },
     "execution_count": 99,
     "metadata": {},
     "output_type": "execute_result"
    }
   ],
   "source": [
    "import numpy as np \n",
    "#criando uma variável numpy\n",
    "n = np.array(0) #sempre quando chama função, são parênteses. Sempre que são índices, colchetes.\n",
    "type(n)"
   ]
  },
  {
   "cell_type": "code",
   "execution_count": 100,
   "id": "24e3191f-37b7-4828-b3e3-45283cca6a8d",
   "metadata": {},
   "outputs": [
    {
     "name": "stdout",
     "output_type": "stream",
     "text": [
      "[ 1  2  3 10 20 55]\n"
     ]
    }
   ],
   "source": [
    "#Criando uma variável numpy a partir de uma lista\n",
    "myThirdList=[1,2,3,10,20,55]\n",
    "n = np.array(myThirdList) #transforma a lista em uma numpy array\n",
    "print(n)"
   ]
  },
  {
   "cell_type": "code",
   "execution_count": 105,
   "id": "60005a0a-d4cf-4329-ac60-004030dae782",
   "metadata": {},
   "outputs": [
    {
     "name": "stdout",
     "output_type": "stream",
     "text": [
      "[[0.43808646 0.99969139 0.75933296 0.75639424 0.13141551 0.49696492\n",
      "  0.30202119 0.05476799 0.79464125 0.66796861]\n",
      " [0.44322819 0.74078508 0.73127622 0.79432055 0.11108605 0.88932797\n",
      "  0.43475762 0.03852436 0.23834066 0.61511445]\n",
      " [0.03935936 0.79763372 0.0640726  0.27945224 0.52005313 0.73963096\n",
      "  0.61064252 0.19041118 0.41384887 0.7631352 ]\n",
      " [0.71395434 0.27010389 0.47685711 0.03439655 0.57923998 0.58604605\n",
      "  0.19449321 0.8114511  0.6977146  0.10604788]\n",
      " [0.43281053 0.13904893 0.49779789 0.79852072 0.52584656 0.75819952\n",
      "  0.22544903 0.47861296 0.59489847 0.99985529]\n",
      " [0.86319284 0.62642992 0.69504881 0.48038922 0.97878955 0.92065871\n",
      "  0.93843228 0.02878296 0.68767253 0.89244198]\n",
      " [0.02845015 0.18516262 0.54097698 0.1383122  0.64342327 0.44070331\n",
      "  0.4182143  0.37192859 0.77415157 0.67892279]\n",
      " [0.47681607 0.15616763 0.84639161 0.07253916 0.984993   0.86005567\n",
      "  0.34579436 0.62508196 0.97179422 0.60981083]\n",
      " [0.5449134  0.23351385 0.36909031 0.83591214 0.49307816 0.02549667\n",
      "  0.79559718 0.80403782 0.27825251 0.00732264]\n",
      " [0.65118326 0.67559624 0.62610334 0.52273856 0.96941681 0.05816484\n",
      "  0.24739467 0.65551402 0.99638092 0.22737048]]\n",
      "(10, 10)\n"
     ]
    }
   ],
   "source": [
    "n = np.random.rand(10,10) #gera uma matriz aleatória 10 x 10\n",
    "print(n)\n",
    "print(n.shape) #printa o tamanho (dimensões) da matriz"
   ]
  },
  {
   "cell_type": "code",
   "execution_count": 106,
   "id": "9970b2f5-b7f0-4e19-92ed-955f52330ebc",
   "metadata": {},
   "outputs": [
    {
     "data": {
      "text/plain": [
       "0.4380864615969945"
      ]
     },
     "execution_count": 106,
     "metadata": {},
     "output_type": "execute_result"
    }
   ],
   "source": [
    "#Acessando valores da matriz\n",
    "n[0,0] #mostra o que está na posição 0,0 da matriz"
   ]
  },
  {
   "cell_type": "code",
   "execution_count": 107,
   "id": "b817512b-8b7e-4bec-8401-bcdd60746bac",
   "metadata": {},
   "outputs": [
    {
     "data": {
      "text/plain": [
       "array([0.43808646, 0.99969139, 0.75933296, 0.75639424, 0.13141551,\n",
       "       0.49696492, 0.30202119, 0.05476799, 0.79464125, 0.66796861])"
      ]
     },
     "execution_count": 107,
     "metadata": {},
     "output_type": "execute_result"
    }
   ],
   "source": [
    "n[0] #mostra a primeira linha da matriz"
   ]
  },
  {
   "cell_type": "code",
   "execution_count": 108,
   "id": "b56f0200-5b01-42e2-b7e0-cc48c32f1398",
   "metadata": {},
   "outputs": [
    {
     "data": {
      "text/plain": [
       "array([0.43808646, 0.99969139, 0.75933296, 0.75639424, 0.13141551,\n",
       "       0.49696492, 0.30202119, 0.05476799, 0.79464125, 0.66796861])"
      ]
     },
     "execution_count": 108,
     "metadata": {},
     "output_type": "execute_result"
    }
   ],
   "source": [
    "n[0,:] #primeira linha, todas as colunas"
   ]
  },
  {
   "cell_type": "code",
   "execution_count": 109,
   "id": "05b47e54-f437-4e40-988c-1a50f195f3f5",
   "metadata": {},
   "outputs": [
    {
     "data": {
      "text/plain": [
       "array([0.43808646, 0.44322819, 0.03935936, 0.71395434, 0.43281053,\n",
       "       0.86319284, 0.02845015, 0.47681607, 0.5449134 , 0.65118326])"
      ]
     },
     "execution_count": 109,
     "metadata": {},
     "output_type": "execute_result"
    }
   ],
   "source": [
    "n[:,0] #todas as linhas, primeira coluna"
   ]
  },
  {
   "cell_type": "code",
   "execution_count": 110,
   "id": "7d1cd104-ed09-4c3f-934f-1065409c781f",
   "metadata": {},
   "outputs": [
    {
     "data": {
      "text/plain": [
       "array([[0.99969139, 0.75933296, 0.75639424, 0.13141551],\n",
       "       [0.74078508, 0.73127622, 0.79432055, 0.11108605],\n",
       "       [0.79763372, 0.0640726 , 0.27945224, 0.52005313],\n",
       "       [0.27010389, 0.47685711, 0.03439655, 0.57923998],\n",
       "       [0.13904893, 0.49779789, 0.79852072, 0.52584656],\n",
       "       [0.62642992, 0.69504881, 0.48038922, 0.97878955],\n",
       "       [0.18516262, 0.54097698, 0.1383122 , 0.64342327],\n",
       "       [0.15616763, 0.84639161, 0.07253916, 0.984993  ],\n",
       "       [0.23351385, 0.36909031, 0.83591214, 0.49307816],\n",
       "       [0.67559624, 0.62610334, 0.52273856, 0.96941681]])"
      ]
     },
     "execution_count": 110,
     "metadata": {},
     "output_type": "execute_result"
    }
   ],
   "source": [
    "n[:,1:5] #todas as linhas, da coluna 1 a 5"
   ]
  },
  {
   "cell_type": "code",
   "execution_count": 111,
   "id": "1e7dd1a2-a01f-4488-b76f-9b34faf376b1",
   "metadata": {},
   "outputs": [
    {
     "data": {
      "text/plain": [
       "array([0.99969139, 0.75933296, 0.75639424, 0.13141551])"
      ]
     },
     "execution_count": 111,
     "metadata": {},
     "output_type": "execute_result"
    }
   ],
   "source": [
    "n[0, 1:5]"
   ]
  },
  {
   "cell_type": "code",
   "execution_count": 112,
   "id": "3b169f6c-9269-4c43-937a-92742b5a696f",
   "metadata": {},
   "outputs": [
    {
     "data": {
      "text/plain": [
       "0.6679686135256101"
      ]
     },
     "execution_count": 112,
     "metadata": {},
     "output_type": "execute_result"
    }
   ],
   "source": [
    "n[0,-1] #mostra o ultimo valor da linha zero"
   ]
  },
  {
   "cell_type": "code",
   "execution_count": 113,
   "id": "7e6f2c6e-b591-409d-bbb7-c567aa3bea9f",
   "metadata": {},
   "outputs": [
    {
     "data": {
      "text/plain": [
       "array([0.13141551, 0.49696492, 0.30202119, 0.05476799, 0.79464125])"
      ]
     },
     "execution_count": 113,
     "metadata": {},
     "output_type": "execute_result"
    }
   ],
   "source": [
    "n[0,4:-1]"
   ]
  },
  {
   "cell_type": "code",
   "execution_count": 116,
   "id": "04aeb12d-2f74-4b8f-bc14-b111a657f872",
   "metadata": {},
   "outputs": [
    {
     "name": "stdout",
     "output_type": "stream",
     "text": [
      "[[-8.25338987e-01 -3.08661253e-04 -2.75314912e-01 -2.79192551e-01\n",
      "  -2.02939115e+00 -6.99235840e-01 -1.19725809e+00 -2.90464943e+00\n",
      "  -2.29864523e-01 -4.03514092e-01]\n",
      " [-8.13670545e-01 -3.00044741e-01 -3.12964031e-01 -2.30268183e-01\n",
      "  -2.19745017e+00 -1.17289195e-01 -8.32966588e-01 -3.25646457e+00\n",
      "  -1.43405428e+00 -4.85946927e-01]\n",
      " [-3.23502139e+00 -2.26105789e-01 -2.74773849e+00 -1.27492389e+00\n",
      "  -6.53824308e-01 -3.01603917e-01 -4.93243573e-01 -1.65856944e+00\n",
      "  -8.82254419e-01 -2.70320062e-01]\n",
      " [-3.36936268e-01 -1.30894863e+00 -7.40538388e-01 -3.36979911e+00\n",
      "  -5.46038415e-01 -5.34356901e-01 -1.63735802e+00 -2.08931151e-01\n",
      "  -3.59945146e-01 -2.24386459e+00]\n",
      " [-8.37455232e-01 -1.97292939e+00 -6.97561119e-01 -2.24994359e-01\n",
      "  -6.42745827e-01 -2.76808715e-01 -1.48966116e+00 -7.36863022e-01\n",
      "  -5.19364524e-01 -1.44721565e-04]\n",
      " [-1.47117155e-01 -4.67718369e-01 -3.63773204e-01 -7.33158629e-01\n",
      "  -2.14386288e-02 -8.26658797e-02 -6.35445821e-02 -3.54797165e+00\n",
      "  -3.74442530e-01 -1.13793779e-01]\n",
      " [-3.55960169e+00 -1.68652081e+00 -6.14378543e-01 -1.97824183e+00\n",
      "  -4.40952493e-01 -8.19383390e-01 -8.71761301e-01 -9.89053397e-01\n",
      "  -2.55987593e-01 -3.87247873e-01]\n",
      " [-7.40624468e-01 -1.85682530e+00 -1.66773129e-01 -2.62362875e+00\n",
      "  -1.51207485e-02 -1.50758159e-01 -1.06191102e+00 -4.69872508e-01\n",
      "  -2.86112087e-02 -4.94606484e-01]\n",
      " [-6.07128393e-01 -1.45451389e+00 -9.96713921e-01 -1.79231771e-01\n",
      "  -7.07087572e-01 -3.66920760e+00 -2.28662274e-01 -2.18108965e-01\n",
      "  -1.27922626e+00 -4.91678496e+00]\n",
      " [-4.28964164e-01 -3.92159654e-01 -4.68239850e-01 -6.48673819e-01\n",
      "  -3.10606151e-02 -2.84447423e+00 -1.39677037e+00 -4.22335585e-01\n",
      "  -3.62564317e-03 -1.48117451e+00]]\n"
     ]
    }
   ],
   "source": [
    "an = np.log(n) #aplicou o log em todos os valores da matriz\n",
    "print (an)"
   ]
  },
  {
   "cell_type": "code",
   "execution_count": null,
   "id": "a82fa7ca-240e-4118-a2c2-173c88bd012b",
   "metadata": {},
   "outputs": [],
   "source": []
  }
 ],
 "metadata": {
  "kernelspec": {
   "display_name": "Python 3 (ipykernel)",
   "language": "python",
   "name": "python3"
  },
  "language_info": {
   "codemirror_mode": {
    "name": "ipython",
    "version": 3
   },
   "file_extension": ".py",
   "mimetype": "text/x-python",
   "name": "python",
   "nbconvert_exporter": "python",
   "pygments_lexer": "ipython3",
   "version": "3.11.5"
  }
 },
 "nbformat": 4,
 "nbformat_minor": 5
}
